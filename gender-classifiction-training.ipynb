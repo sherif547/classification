{
 "cells": [
  {
   "cell_type": "code",
   "execution_count": 4,
   "metadata": {
    "_cell_guid": "b1076dfc-b9ad-4769-8c92-a6c4dae69d19",
    "_uuid": "8f2839f25d086af736a60e9eeb907d3b93b6e0e5",
    "execution": {
     "iopub.execute_input": "2023-07-05T11:32:18.750036Z",
     "iopub.status.busy": "2023-07-05T11:32:18.749216Z",
     "iopub.status.idle": "2023-07-05T11:32:18.762283Z",
     "shell.execute_reply": "2023-07-05T11:32:18.761139Z",
     "shell.execute_reply.started": "2023-07-05T11:32:18.749996Z"
    }
   },
   "outputs": [],
   "source": [
    "# This Python 3 environment comes with many helpful analytics libraries installed\n",
    "# It is defined by the kaggle/python Docker image: https://github.com/kaggle/docker-python\n",
    "# For example, here's several helpful packages to load\n",
    "\n",
    "import numpy as np # linear algebra\n",
    "import pandas as pd # data processing, CSV file I/O (e.g. pd.read_csv)\n",
    "\n",
    "# Input data files are available in the read-only \"../input/\" directory\n",
    "# For example, running this (by clicking run or pressing Shift+Enter) will list all files under the input directory\n",
    "\n",
    "import os\n",
    "for dirname, _, filenames in os.walk('/kaggle/input'):\n",
    "    for filename in filenames:\n",
    "        print(os.path.join(dirname, filename))\n",
    "\n",
    "# You can write up to 20GB to the current directory (/kaggle/working/) that gets preserved as output when you create a version using \"Save & Run All\" \n",
    "# You can also write temporary files to /kaggle/temp/, but they won't be saved outside of the current session"
   ]
  },
  {
   "cell_type": "code",
   "execution_count": 5,
   "metadata": {
    "execution": {
     "iopub.execute_input": "2023-07-05T11:44:13.714756Z",
     "iopub.status.busy": "2023-07-05T11:44:13.714229Z",
     "iopub.status.idle": "2023-07-05T11:44:13.721108Z",
     "shell.execute_reply": "2023-07-05T11:44:13.719962Z",
     "shell.execute_reply.started": "2023-07-05T11:44:13.714711Z"
    }
   },
   "outputs": [],
   "source": [
    "import pandas as pd\n",
    "import numpy as np\n",
    "import seaborn as sns\n",
    "import matplotlib.pyplot as plt"
   ]
  },
  {
   "cell_type": "code",
   "execution_count": 8,
   "metadata": {
    "execution": {
     "iopub.execute_input": "2023-07-05T11:32:19.789321Z",
     "iopub.status.busy": "2023-07-05T11:32:19.788975Z",
     "iopub.status.idle": "2023-07-05T11:32:19.820967Z",
     "shell.execute_reply": "2023-07-05T11:32:19.819817Z",
     "shell.execute_reply.started": "2023-07-05T11:32:19.789291Z"
    }
   },
   "outputs": [],
   "source": [
    "df=pd.read_csv(\"D:\\jupyter notebook projects\\Data\\gender_classification_v7.csv\")"
   ]
  },
  {
   "cell_type": "code",
   "execution_count": 9,
   "metadata": {
    "execution": {
     "iopub.execute_input": "2023-07-05T11:32:20.356900Z",
     "iopub.status.busy": "2023-07-05T11:32:20.356530Z",
     "iopub.status.idle": "2023-07-05T11:32:20.388459Z",
     "shell.execute_reply": "2023-07-05T11:32:20.387682Z",
     "shell.execute_reply.started": "2023-07-05T11:32:20.356871Z"
    }
   },
   "outputs": [
    {
     "data": {
      "text/html": [
       "<div>\n",
       "<style scoped>\n",
       "    .dataframe tbody tr th:only-of-type {\n",
       "        vertical-align: middle;\n",
       "    }\n",
       "\n",
       "    .dataframe tbody tr th {\n",
       "        vertical-align: top;\n",
       "    }\n",
       "\n",
       "    .dataframe thead th {\n",
       "        text-align: right;\n",
       "    }\n",
       "</style>\n",
       "<table border=\"1\" class=\"dataframe\">\n",
       "  <thead>\n",
       "    <tr style=\"text-align: right;\">\n",
       "      <th></th>\n",
       "      <th>long_hair</th>\n",
       "      <th>forehead_width_cm</th>\n",
       "      <th>forehead_height_cm</th>\n",
       "      <th>nose_wide</th>\n",
       "      <th>nose_long</th>\n",
       "      <th>lips_thin</th>\n",
       "      <th>distance_nose_to_lip_long</th>\n",
       "      <th>gender</th>\n",
       "    </tr>\n",
       "  </thead>\n",
       "  <tbody>\n",
       "    <tr>\n",
       "      <th>0</th>\n",
       "      <td>1</td>\n",
       "      <td>11.8</td>\n",
       "      <td>6.1</td>\n",
       "      <td>1</td>\n",
       "      <td>0</td>\n",
       "      <td>1</td>\n",
       "      <td>1</td>\n",
       "      <td>Male</td>\n",
       "    </tr>\n",
       "    <tr>\n",
       "      <th>1</th>\n",
       "      <td>0</td>\n",
       "      <td>14.0</td>\n",
       "      <td>5.4</td>\n",
       "      <td>0</td>\n",
       "      <td>0</td>\n",
       "      <td>1</td>\n",
       "      <td>0</td>\n",
       "      <td>Female</td>\n",
       "    </tr>\n",
       "    <tr>\n",
       "      <th>2</th>\n",
       "      <td>0</td>\n",
       "      <td>11.8</td>\n",
       "      <td>6.3</td>\n",
       "      <td>1</td>\n",
       "      <td>1</td>\n",
       "      <td>1</td>\n",
       "      <td>1</td>\n",
       "      <td>Male</td>\n",
       "    </tr>\n",
       "    <tr>\n",
       "      <th>3</th>\n",
       "      <td>0</td>\n",
       "      <td>14.4</td>\n",
       "      <td>6.1</td>\n",
       "      <td>0</td>\n",
       "      <td>1</td>\n",
       "      <td>1</td>\n",
       "      <td>1</td>\n",
       "      <td>Male</td>\n",
       "    </tr>\n",
       "    <tr>\n",
       "      <th>4</th>\n",
       "      <td>1</td>\n",
       "      <td>13.5</td>\n",
       "      <td>5.9</td>\n",
       "      <td>0</td>\n",
       "      <td>0</td>\n",
       "      <td>0</td>\n",
       "      <td>0</td>\n",
       "      <td>Female</td>\n",
       "    </tr>\n",
       "  </tbody>\n",
       "</table>\n",
       "</div>"
      ],
      "text/plain": [
       "   long_hair  forehead_width_cm  forehead_height_cm  nose_wide  nose_long  \\\n",
       "0          1               11.8                 6.1          1          0   \n",
       "1          0               14.0                 5.4          0          0   \n",
       "2          0               11.8                 6.3          1          1   \n",
       "3          0               14.4                 6.1          0          1   \n",
       "4          1               13.5                 5.9          0          0   \n",
       "\n",
       "   lips_thin  distance_nose_to_lip_long  gender  \n",
       "0          1                          1    Male  \n",
       "1          1                          0  Female  \n",
       "2          1                          1    Male  \n",
       "3          1                          1    Male  \n",
       "4          0                          0  Female  "
      ]
     },
     "execution_count": 9,
     "metadata": {},
     "output_type": "execute_result"
    }
   ],
   "source": [
    "df.head()"
   ]
  },
  {
   "cell_type": "code",
   "execution_count": 10,
   "metadata": {
    "execution": {
     "iopub.execute_input": "2023-07-05T11:32:28.727818Z",
     "iopub.status.busy": "2023-07-05T11:32:28.727388Z",
     "iopub.status.idle": "2023-07-05T11:32:28.760329Z",
     "shell.execute_reply": "2023-07-05T11:32:28.759549Z",
     "shell.execute_reply.started": "2023-07-05T11:32:28.727785Z"
    }
   },
   "outputs": [
    {
     "name": "stdout",
     "output_type": "stream",
     "text": [
      "<class 'pandas.core.frame.DataFrame'>\n",
      "RangeIndex: 5001 entries, 0 to 5000\n",
      "Data columns (total 8 columns):\n",
      " #   Column                     Non-Null Count  Dtype  \n",
      "---  ------                     --------------  -----  \n",
      " 0   long_hair                  5001 non-null   int64  \n",
      " 1   forehead_width_cm          5001 non-null   float64\n",
      " 2   forehead_height_cm         5001 non-null   float64\n",
      " 3   nose_wide                  5001 non-null   int64  \n",
      " 4   nose_long                  5001 non-null   int64  \n",
      " 5   lips_thin                  5001 non-null   int64  \n",
      " 6   distance_nose_to_lip_long  5001 non-null   int64  \n",
      " 7   gender                     5001 non-null   object \n",
      "dtypes: float64(2), int64(5), object(1)\n",
      "memory usage: 312.7+ KB\n"
     ]
    }
   ],
   "source": [
    "df.info()"
   ]
  },
  {
   "cell_type": "code",
   "execution_count": 11,
   "metadata": {
    "execution": {
     "iopub.execute_input": "2023-07-05T11:40:24.179357Z",
     "iopub.status.busy": "2023-07-05T11:40:24.178993Z",
     "iopub.status.idle": "2023-07-05T11:40:24.189981Z",
     "shell.execute_reply": "2023-07-05T11:40:24.188801Z",
     "shell.execute_reply.started": "2023-07-05T11:40:24.179327Z"
    }
   },
   "outputs": [
    {
     "data": {
      "text/plain": [
       "Female    2501\n",
       "Male      2500\n",
       "Name: gender, dtype: int64"
      ]
     },
     "execution_count": 11,
     "metadata": {},
     "output_type": "execute_result"
    }
   ],
   "source": [
    "df['gender'].value_counts()"
   ]
  },
  {
   "cell_type": "code",
   "execution_count": 12,
   "metadata": {
    "execution": {
     "iopub.execute_input": "2023-07-05T11:40:48.273826Z",
     "iopub.status.busy": "2023-07-05T11:40:48.273434Z",
     "iopub.status.idle": "2023-07-05T11:40:48.533922Z",
     "shell.execute_reply": "2023-07-05T11:40:48.532627Z",
     "shell.execute_reply.started": "2023-07-05T11:40:48.273796Z"
    }
   },
   "outputs": [
    {
     "data": {
      "text/plain": [
       "<AxesSubplot:xlabel='gender', ylabel='count'>"
      ]
     },
     "execution_count": 12,
     "metadata": {},
     "output_type": "execute_result"
    },
    {
     "data": {
      "image/png": "[encoded data removed]",
      "text/plain": [
       "<Figure size 432x288 with 1 Axes>"
      ]
     },
     "metadata": {
      "needs_background": "light"
     },
     "output_type": "display_data"
    }
   ],
   "source": [
    "sns.countplot(data=df,x='gender')"
   ]
  },
  {
   "cell_type": "code",
   "execution_count": 13,
   "metadata": {
    "execution": {
     "iopub.execute_input": "2023-07-05T11:41:10.667887Z",
     "iopub.status.busy": "2023-07-05T11:41:10.666826Z",
     "iopub.status.idle": "2023-07-05T11:41:10.683863Z",
     "shell.execute_reply": "2023-07-05T11:41:10.682772Z",
     "shell.execute_reply.started": "2023-07-05T11:41:10.667846Z"
    }
   },
   "outputs": [
    {
     "data": {
      "text/html": [
       "<div>\n",
       "<style scoped>\n",
       "    .dataframe tbody tr th:only-of-type {\n",
       "        vertical-align: middle;\n",
       "    }\n",
       "\n",
       "    .dataframe tbody tr th {\n",
       "        vertical-align: top;\n",
       "    }\n",
       "\n",
       "    .dataframe thead th {\n",
       "        text-align: right;\n",
       "    }\n",
       "</style>\n",
       "<table border=\"1\" class=\"dataframe\">\n",
       "  <thead>\n",
       "    <tr style=\"text-align: right;\">\n",
       "      <th></th>\n",
       "      <th>long_hair</th>\n",
       "      <th>forehead_width_cm</th>\n",
       "      <th>forehead_height_cm</th>\n",
       "      <th>nose_wide</th>\n",
       "      <th>nose_long</th>\n",
       "      <th>lips_thin</th>\n",
       "      <th>distance_nose_to_lip_long</th>\n",
       "      <th>gender</th>\n",
       "    </tr>\n",
       "  </thead>\n",
       "  <tbody>\n",
       "    <tr>\n",
       "      <th>3960</th>\n",
       "      <td>1</td>\n",
       "      <td>13.1</td>\n",
       "      <td>5.2</td>\n",
       "      <td>0</td>\n",
       "      <td>0</td>\n",
       "      <td>0</td>\n",
       "      <td>0</td>\n",
       "      <td>Female</td>\n",
       "    </tr>\n",
       "  </tbody>\n",
       "</table>\n",
       "</div>"
      ],
      "text/plain": [
       "      long_hair  forehead_width_cm  forehead_height_cm  nose_wide  nose_long  \\\n",
       "3960          1               13.1                 5.2          0          0   \n",
       "\n",
       "      lips_thin  distance_nose_to_lip_long  gender  \n",
       "3960          0                          0  Female  "
      ]
     },
     "execution_count": 13,
     "metadata": {},
     "output_type": "execute_result"
    }
   ],
   "source": [
    "df.sample()"
   ]
  },
  {
   "cell_type": "code",
   "execution_count": 14,
   "metadata": {
    "execution": {
     "iopub.execute_input": "2023-07-05T11:44:22.314407Z",
     "iopub.status.busy": "2023-07-05T11:44:22.313855Z",
     "iopub.status.idle": "2023-07-05T11:44:22.619750Z",
     "shell.execute_reply": "2023-07-05T11:44:22.618583Z",
     "shell.execute_reply.started": "2023-07-05T11:44:22.314361Z"
    }
   },
   "outputs": [
    {
     "data": {
      "image/png": "[encoded data removed]",
      "text/plain": [
       "<Figure size 432x288 with 1 Axes>"
      ]
     },
     "metadata": {
      "needs_background": "light"
     },
     "output_type": "display_data"
    }
   ],
   "source": [
    "sns.countplot(data=df,x='gender',hue='long_hair')\n",
    "plt.title(\"Gender of people with long hair\")\n",
    "plt.xlabel(\"Gender\")\n",
    "plt.ylabel(\"Count\")\n",
    "plt.show()"
   ]
  },
  {
   "cell_type": "code",
   "execution_count": 15,
   "metadata": {
    "execution": {
     "iopub.execute_input": "2023-07-05T11:50:08.959016Z",
     "iopub.status.busy": "2023-07-05T11:50:08.958591Z",
     "iopub.status.idle": "2023-07-05T11:50:08.972320Z",
     "shell.execute_reply": "2023-07-05T11:50:08.971189Z",
     "shell.execute_reply.started": "2023-07-05T11:50:08.958981Z"
    }
   },
   "outputs": [
    {
     "data": {
      "text/plain": [
       "12.0    168\n",
       "11.8    161\n",
       "14.1    155\n",
       "14.0    154\n",
       "11.5    154\n",
       "11.6    152\n",
       "11.9    150\n",
       "13.3    149\n",
       "14.2    149\n",
       "12.2    145\n",
       "12.6    145\n",
       "12.1    145\n",
       "13.2    143\n",
       "14.3    143\n",
       "12.9    141\n",
       "12.5    141\n",
       "13.7    140\n",
       "12.8    138\n",
       "12.3    138\n",
       "13.6    138\n",
       "13.0    137\n",
       "13.4    137\n",
       "13.5    136\n",
       "13.8    134\n",
       "11.7    133\n",
       "13.1    131\n",
       "13.9    131\n",
       "12.7    130\n",
       "12.4    127\n",
       "11.4     84\n",
       "14.9     79\n",
       "14.5     72\n",
       "15.2     71\n",
       "15.5     66\n",
       "15.1     65\n",
       "15.4     64\n",
       "15.3     64\n",
       "14.4     63\n",
       "14.6     61\n",
       "15.0     60\n",
       "14.7     59\n",
       "14.8     48\n",
       "Name: forehead_width_cm, dtype: int64"
      ]
     },
     "execution_count": 15,
     "metadata": {},
     "output_type": "execute_result"
    }
   ],
   "source": [
    "df['forehead_width_cm'].value_counts()"
   ]
  },
  {
   "cell_type": "code",
   "execution_count": 16,
   "metadata": {
    "execution": {
     "iopub.execute_input": "2023-07-05T11:50:31.957627Z",
     "iopub.status.busy": "2023-07-05T11:50:31.957225Z",
     "iopub.status.idle": "2023-07-05T11:50:31.968812Z",
     "shell.execute_reply": "2023-07-05T11:50:31.967843Z",
     "shell.execute_reply.started": "2023-07-05T11:50:31.957595Z"
    }
   },
   "outputs": [
    {
     "data": {
      "text/plain": [
       "gender\n",
       "Female    12.811675\n",
       "Male      13.551440\n",
       "Name: forehead_width_cm, dtype: float64"
      ]
     },
     "execution_count": 16,
     "metadata": {},
     "output_type": "execute_result"
    }
   ],
   "source": [
    "df.groupby('gender')['forehead_width_cm'].mean()"
   ]
  },
  {
   "cell_type": "code",
   "execution_count": 17,
   "metadata": {
    "execution": {
     "iopub.execute_input": "2023-07-05T11:51:59.026067Z",
     "iopub.status.busy": "2023-07-05T11:51:59.025682Z",
     "iopub.status.idle": "2023-07-05T11:51:59.037972Z",
     "shell.execute_reply": "2023-07-05T11:51:59.036599Z",
     "shell.execute_reply.started": "2023-07-05T11:51:59.026036Z"
    }
   },
   "outputs": [
    {
     "data": {
      "text/plain": [
       "gender\n",
       "Female    5.796321\n",
       "Male      6.096360\n",
       "Name: forehead_height_cm, dtype: float64"
      ]
     },
     "execution_count": 17,
     "metadata": {},
     "output_type": "execute_result"
    }
   ],
   "source": [
    "df.groupby('gender')['forehead_height_cm'].mean()"
   ]
  },
  {
   "cell_type": "code",
   "execution_count": 18,
   "metadata": {
    "execution": {
     "iopub.execute_input": "2023-07-05T12:18:17.959995Z",
     "iopub.status.busy": "2023-07-05T12:18:17.959483Z",
     "iopub.status.idle": "2023-07-05T12:18:17.968142Z",
     "shell.execute_reply": "2023-07-05T12:18:17.966899Z",
     "shell.execute_reply.started": "2023-07-05T12:18:17.959958Z"
    }
   },
   "outputs": [],
   "source": [
    "#3sns.scatterplot(data=df,x='forehead_height_cm'y=('gender'.replace({'gender' : { 'Male' : 0, 'Female' : 1}}))"
   ]
  },
  {
   "cell_type": "code",
   "execution_count": 19,
   "metadata": {
    "execution": {
     "iopub.execute_input": "2023-07-05T11:52:36.447315Z",
     "iopub.status.busy": "2023-07-05T11:52:36.446870Z",
     "iopub.status.idle": "2023-07-05T11:52:36.459304Z",
     "shell.execute_reply": "2023-07-05T11:52:36.458153Z",
     "shell.execute_reply.started": "2023-07-05T11:52:36.447281Z"
    }
   },
   "outputs": [
    {
     "data": {
      "text/plain": [
       "0    2531\n",
       "1    2470\n",
       "Name: nose_wide, dtype: int64"
      ]
     },
     "execution_count": 19,
     "metadata": {},
     "output_type": "execute_result"
    }
   ],
   "source": [
    "df['nose_wide'].value_counts()"
   ]
  },
  {
   "cell_type": "code",
   "execution_count": 20,
   "metadata": {
    "execution": {
     "iopub.execute_input": "2023-07-05T11:55:15.216665Z",
     "iopub.status.busy": "2023-07-05T11:55:15.216189Z",
     "iopub.status.idle": "2023-07-05T11:55:15.502134Z",
     "shell.execute_reply": "2023-07-05T11:55:15.500706Z",
     "shell.execute_reply.started": "2023-07-05T11:55:15.216629Z"
    }
   },
   "outputs": [
    {
     "data": {
      "text/plain": [
       "<AxesSubplot:xlabel='nose_wide', ylabel='count'>"
      ]
     },
     "execution_count": 20,
     "metadata": {},
     "output_type": "execute_result"
    },
    {
     "data": {
      "image/png": "[encoded data removed]",
      "text/plain": [
       "<Figure size 432x288 with 1 Axes>"
      ]
     },
     "metadata": {
      "needs_background": "light"
     },
     "output_type": "display_data"
    }
   ],
   "source": [
    "sns.countplot(data=df,x='nose_wide',hue='gender')"
   ]
  },
  {
   "cell_type": "markdown",
   "metadata": {},
   "source": [
    "## split data train and test"
   ]
  },
  {
   "cell_type": "code",
   "execution_count": 21,
   "metadata": {
    "execution": {
     "iopub.execute_input": "2023-07-05T12:13:04.647656Z",
     "iopub.status.busy": "2023-07-05T12:13:04.647152Z",
     "iopub.status.idle": "2023-07-05T12:13:04.655036Z",
     "shell.execute_reply": "2023-07-05T12:13:04.654116Z",
     "shell.execute_reply.started": "2023-07-05T12:13:04.647611Z"
    }
   },
   "outputs": [],
   "source": [
    "x=df.iloc[:,:-1]\n",
    "y=df.iloc[:,-1]"
   ]
  },
  {
   "cell_type": "code",
   "execution_count": 22,
   "metadata": {
    "execution": {
     "iopub.execute_input": "2023-07-05T12:13:05.973864Z",
     "iopub.status.busy": "2023-07-05T12:13:05.972898Z",
     "iopub.status.idle": "2023-07-05T12:13:05.984062Z",
     "shell.execute_reply": "2023-07-05T12:13:05.982600Z",
     "shell.execute_reply.started": "2023-07-05T12:13:05.973807Z"
    }
   },
   "outputs": [],
   "source": [
    "from sklearn.model_selection import train_test_split\n",
    "x_train,x_test,y_train,y_test=train_test_split(x,y,test_size=.25,random_state=1011)"
   ]
  },
  {
   "cell_type": "code",
   "execution_count": 23,
   "metadata": {
    "execution": {
     "iopub.execute_input": "2023-07-05T12:13:47.891238Z",
     "iopub.status.busy": "2023-07-05T12:13:47.890833Z",
     "iopub.status.idle": "2023-07-05T12:13:47.897896Z",
     "shell.execute_reply": "2023-07-05T12:13:47.896287Z",
     "shell.execute_reply.started": "2023-07-05T12:13:47.891207Z"
    }
   },
   "outputs": [
    {
     "name": "stdout",
     "output_type": "stream",
     "text": [
      "(3750, 7)\n",
      "(1251, 7)\n",
      "(3750,)\n",
      "(1251,)\n"
     ]
    }
   ],
   "source": [
    "print(x_train.shape)\n",
    "print(x_test.shape)\n",
    "print(y_train.shape)\n",
    "print(y_test.shape)"
   ]
  },
  {
   "cell_type": "markdown",
   "metadata": {},
   "source": [
    "## logistic reg model"
   ]
  },
  {
   "cell_type": "code",
   "execution_count": 24,
   "metadata": {
    "execution": {
     "iopub.execute_input": "2023-07-05T12:19:22.587367Z",
     "iopub.status.busy": "2023-07-05T12:19:22.586909Z",
     "iopub.status.idle": "2023-07-05T12:19:22.593406Z",
     "shell.execute_reply": "2023-07-05T12:19:22.591969Z",
     "shell.execute_reply.started": "2023-07-05T12:19:22.587334Z"
    }
   },
   "outputs": [],
   "source": [
    "from sklearn.linear_model import LogisticRegression"
   ]
  },
  {
   "cell_type": "code",
   "execution_count": 25,
   "metadata": {
    "execution": {
     "iopub.execute_input": "2023-07-05T12:19:49.158639Z",
     "iopub.status.busy": "2023-07-05T12:19:49.158198Z",
     "iopub.status.idle": "2023-07-05T12:19:49.238983Z",
     "shell.execute_reply": "2023-07-05T12:19:49.236619Z",
     "shell.execute_reply.started": "2023-07-05T12:19:49.158606Z"
    }
   },
   "outputs": [
    {
     "data": {
      "text/plain": [
       "LogisticRegression()"
      ]
     },
     "execution_count": 25,
     "metadata": {},
     "output_type": "execute_result"
    }
   ],
   "source": [
    "lg=LogisticRegression()\n",
    "lg.fit(x_train,y_train)"
   ]
  },
  {
   "cell_type": "markdown",
   "metadata": {},
   "source": [
    "#### predict new values and test model accuracy"
   ]
  },
  {
   "cell_type": "code",
   "execution_count": 26,
   "metadata": {
    "execution": {
     "iopub.execute_input": "2023-07-05T12:21:29.685484Z",
     "iopub.status.busy": "2023-07-05T12:21:29.685059Z",
     "iopub.status.idle": "2023-07-05T12:21:29.694249Z",
     "shell.execute_reply": "2023-07-05T12:21:29.692968Z",
     "shell.execute_reply.started": "2023-07-05T12:21:29.685451Z"
    }
   },
   "outputs": [],
   "source": [
    "y_predic=lg.predict(x_test)"
   ]
  },
  {
   "cell_type": "code",
   "execution_count": 27,
   "metadata": {
    "execution": {
     "iopub.execute_input": "2023-07-05T12:30:09.823109Z",
     "iopub.status.busy": "2023-07-05T12:30:09.822663Z",
     "iopub.status.idle": "2023-07-05T12:30:09.829207Z",
     "shell.execute_reply": "2023-07-05T12:30:09.827908Z",
     "shell.execute_reply.started": "2023-07-05T12:30:09.823070Z"
    }
   },
   "outputs": [],
   "source": [
    "##print(np.concatenate(np.reshape(len(y_train),1),np.reshape(len(y_predic),1),1))"
   ]
  },
  {
   "cell_type": "code",
   "execution_count": 28,
   "metadata": {
    "execution": {
     "iopub.execute_input": "2023-07-05T12:32:12.356364Z",
     "iopub.status.busy": "2023-07-05T12:32:12.355898Z",
     "iopub.status.idle": "2023-07-05T12:32:12.362803Z",
     "shell.execute_reply": "2023-07-05T12:32:12.361343Z",
     "shell.execute_reply.started": "2023-07-05T12:32:12.356330Z"
    }
   },
   "outputs": [],
   "source": [
    "from sklearn.metrics import confusion_matrix,accuracy_score"
   ]
  },
  {
   "cell_type": "code",
   "execution_count": 29,
   "metadata": {
    "execution": {
     "iopub.execute_input": "2023-07-05T12:32:42.259335Z",
     "iopub.status.busy": "2023-07-05T12:32:42.258910Z",
     "iopub.status.idle": "2023-07-05T12:32:42.279446Z",
     "shell.execute_reply": "2023-07-05T12:32:42.277973Z",
     "shell.execute_reply.started": "2023-07-05T12:32:42.259302Z"
    }
   },
   "outputs": [
    {
     "data": {
      "text/plain": [
       "array([[591,  13],\n",
       "       [ 23, 624]], dtype=int64)"
      ]
     },
     "execution_count": 29,
     "metadata": {},
     "output_type": "execute_result"
    }
   ],
   "source": [
    "confusion_matrix(y_test,y_predic)"
   ]
  },
  {
   "cell_type": "code",
   "execution_count": 30,
   "metadata": {
    "execution": {
     "iopub.execute_input": "2023-07-05T12:40:25.797661Z",
     "iopub.status.busy": "2023-07-05T12:40:25.796476Z",
     "iopub.status.idle": "2023-07-05T12:40:25.813402Z",
     "shell.execute_reply": "2023-07-05T12:40:25.811877Z",
     "shell.execute_reply.started": "2023-07-05T12:40:25.797624Z"
    }
   },
   "outputs": [],
   "source": [
    "cm=confusion_matrix(y_test,y_predic)"
   ]
  },
  {
   "cell_type": "code",
   "execution_count": 31,
   "metadata": {
    "execution": {
     "iopub.execute_input": "2023-07-05T12:44:16.790197Z",
     "iopub.status.busy": "2023-07-05T12:44:16.789693Z",
     "iopub.status.idle": "2023-07-05T12:44:16.796773Z",
     "shell.execute_reply": "2023-07-05T12:44:16.795072Z",
     "shell.execute_reply.started": "2023-07-05T12:44:16.790160Z"
    }
   },
   "outputs": [],
   "source": [
    "labels = ['male', 'female', ' male', 'female']\n"
   ]
  },
  {
   "cell_type": "code",
   "execution_count": 32,
   "metadata": {
    "execution": {
     "iopub.execute_input": "2023-07-05T12:44:39.211666Z",
     "iopub.status.busy": "2023-07-05T12:44:39.211228Z",
     "iopub.status.idle": "2023-07-05T12:44:39.531108Z",
     "shell.execute_reply": "2023-07-05T12:44:39.529794Z",
     "shell.execute_reply.started": "2023-07-05T12:44:39.211633Z"
    }
   },
   "outputs": [
    {
     "data": {
      "text/plain": [
       "<AxesSubplot:>"
      ]
     },
     "execution_count": 32,
     "metadata": {},
     "output_type": "execute_result"
    },
    {
     "data": {
      "image/png": "[encoded data removed]",
      "text/plain": [
       "<Figure size 432x288 with 2 Axes>"
      ]
     },
     "metadata": {
      "needs_background": "light"
     },
     "output_type": "display_data"
    }
   ],
   "source": [
    "sns.heatmap(cm,xticklabels=labels[:2],yticklabels=labels[2:],annot=True)"
   ]
  },
  {
   "cell_type": "markdown",
   "metadata": {},
   "source": [
    "it's show that 591 the mdel predict it male and it's realy male ,on another hand predict 624 female and it's female"
   ]
  },
  {
   "cell_type": "code",
   "execution_count": 33,
   "metadata": {
    "execution": {
     "iopub.execute_input": "2023-07-05T12:34:39.924715Z",
     "iopub.status.busy": "2023-07-05T12:34:39.924189Z",
     "iopub.status.idle": "2023-07-05T12:34:39.939235Z",
     "shell.execute_reply": "2023-07-05T12:34:39.937494Z",
     "shell.execute_reply.started": "2023-07-05T12:34:39.924678Z"
    }
   },
   "outputs": [
    {
     "data": {
      "text/plain": [
       "0.9712230215827338"
      ]
     },
     "execution_count": 33,
     "metadata": {},
     "output_type": "execute_result"
    }
   ],
   "source": [
    "accuracy_score(y_test,y_predic)"
   ]
  },
  {
   "cell_type": "code",
   "execution_count": null,
   "metadata": {},
   "outputs": [],
   "source": []
  },
  {
   "cell_type": "code",
   "execution_count": null,
   "metadata": {},
   "outputs": [],
   "source": []
  },
  {
   "cell_type": "code",
   "execution_count": null,
   "metadata": {},
   "outputs": [],
   "source": []
  }
 ],
 "metadata": {
  "kernelspec": {
   "display_name": "Python 3 (ipykernel)",
   "language": "python",
   "name": "python3"
  },
  "language_info": {
   "codemirror_mode": {
    "name": "ipython",
    "version": 3
   },
   "file_extension": ".py",
   "mimetype": "text/x-python",
   "name": "python",
   "nbconvert_exporter": "python",
   "pygments_lexer": "ipython3",
   "version": "3.9.7"
  }
 },
 "nbformat": 4,
 "nbformat_minor": 4
}
